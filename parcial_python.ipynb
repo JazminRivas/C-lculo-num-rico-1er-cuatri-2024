{
  "nbformat": 4,
  "nbformat_minor": 0,
  "metadata": {
    "colab": {
      "provenance": [],
      "authorship_tag": "ABX9TyPetu2q/ScaL7YEmPOShuFb",
      "include_colab_link": true
    },
    "kernelspec": {
      "name": "python3",
      "display_name": "Python 3"
    },
    "language_info": {
      "name": "python"
    }
  },
  "cells": [
    {
      "cell_type": "markdown",
      "metadata": {
        "id": "view-in-github",
        "colab_type": "text"
      },
      "source": [
        "<a href=\"https://colab.research.google.com/github/JazminRivas/Calculo-numerico-1er-cuatri-2024/blob/main/parcial_python.ipynb\" target=\"_parent\"><img src=\"https://colab.research.google.com/assets/colab-badge.svg\" alt=\"Open In Colab\"/></a>"
      ]
    },
    {
      "cell_type": "code",
      "source": [
        "import numpy as np\n",
        "import matplotlib.pyplot as plt\n",
        "from typing import Optional, Tuple"
      ],
      "metadata": {
        "id": "IrOyCWrXWSsS"
      },
      "execution_count": 1,
      "outputs": []
    },
    {
      "cell_type": "markdown",
      "source": [
        "$$\n",
        "\\text{Ejercicio 1: Newton + Jacobi}\n",
        "$$\n",
        "\n",
        "Dada una función $ F: \\mathbb{R}^n \\to \\mathbb{R}^n $, se quiere hallar un cero de la misma, es decir, un $v \\in \\mathbb{R}^n $ tal que $ F(v) = 0 $. Implementar el método de Newton-Raphson dado por\n",
        "\n",
        "$$\n",
        "v_{k+1} = v_k - (J(v_k))^{-1} F(v_k),\n",
        "$$\n",
        "\n",
        "donde $ J $ es la matriz Jacobiana de $ F $ siendo $ J_{i,j} = \\frac{\\partial f_i}{\\partial x_j} $ para $ 1 \\leq i, j \\leq n $.\n",
        "\n",
        "Nota que si en la igualdad de arriba multiplicamos por \\( J(v_k) \\) en ambas partes de la igualdad obtenemos\n",
        "\n",
        "$$\n",
        "J(v_k) v_{k+1} = J(v_k) v_k - F(v_k).\n",
        "$$\n",
        "\n",
        "De aquí se sigue que\n",
        "\n",
        "$$\n",
        "J(v_k) (v_{k+1} - v_k) = -F(v_k).\n",
        "$$\n",
        "\n",
        "Se concluye que no es necesario calcular \\( (J(v_k))^{-1} \\) pues podemos resolver el sistema de arriba con alguno de los métodos estudiados en clase (Jacobi, Gauss-Seidel). Con lo que, si llamamos \\( v_{\\text{Sol}} \\) a la solución aproximada obtenida luego de aplicar alguno de los citados métodos iterativos, podemos concluir que\n",
        "\n",
        "$$\n",
        "v_{k+1} = v_k + v_{\\text{Sol}}.\n",
        "$$\n",
        "\n",
        "1) Escribir una función llamada $\\texttt{NewtonDosDim}$ que reciba como input una $ F: \\mathbb{R}^2 \\to \\mathbb{R}^2 $ dada por $F(x, y) = (f_1(x, y), f_2(x, y)) $, su matriz Jacobiana, un vector inicial $ v_0 $, una tolerancia $\\texttt{tol}$ y la cantidad máxima de iteraciones $\\texttt{maxIter}$. La función debe iterar hasta que se alcance el número máximo de iteraciones o el error relativo entre $ v_k $ y $ v_{k+1} $ sea menor que $\\texttt{tol}$, es decir,\n",
        "$$\n",
        "    \\frac{\\| v_{k+1} - v_k \\|_2}{\\| v_{k+1} \\|_2} < \\texttt{tol}.\n",
        "$$\n",
        "\n",
        "No se permite calcular la inversa de la matriz Jacobiana. Resolver el sistema con el método de Jacobi. El output debe ser el último \\( v_k \\) y el número de iteraciones realizadas.\n",
        "\n",
        "2) Testear el funcionamiento con $ F(x, y) = (y - x^2 + 2, x - y^2 + 2) $, una $\\texttt{tol} =  10^{-10} $ y $\\texttt{maxIter} = 50.$ Utilizar como $ v_0 $ los siguientes vectores: $[3, 2],[-10, -10], [0.4, -1]$ y $[-1, 2]$. Imprimir las respuestas.\n"
      ],
      "metadata": {
        "id": "TAmLXfLGUjM3"
      }
    },
    {
      "cell_type": "code",
      "execution_count": 2,
      "metadata": {
        "id": "QvduEDqYTHp9"
      },
      "outputs": [],
      "source": [
        "def jacobi(A: np.ndarray, b: np.ndarray, x0: Optional[np.ndarray] = None, max_iter: int = 100) -> np.ndarray:\n",
        "    D = np.diag(np.diag(A))\n",
        "    L = np.tril(A,-1)\n",
        "    U = np.triu(A,1)\n",
        "    D_inv =np.linalg.inv(D)\n",
        "    M = -D_inv@(L+U)\n",
        "    c = D_inv@b\n",
        "\n",
        "    if x0 is None:\n",
        "        x0 = c\n",
        "\n",
        "    # Guardo lugar para la sucesion\n",
        "    # La fila i va a ser la aproximación en la iteración i\n",
        "    # Las columnas van a ser las coordenadas de cada aproximación\n",
        "    x = np.empty((max_iter, x0.size))\n",
        "\n",
        "    for i in range(max_iter-1):\n",
        "        x[i+1,:] = M @ x[i,:] + c\n",
        "\n",
        "    return x[-1,:]\n",
        "\n",
        "def NewtonDosDim(Funcion,JF,x0,tol, max_iter = 50):\n",
        "  x = np.zeros((max_iter,len(x0))) #guardo lugar para las iteraciones\n",
        "  x[0,:] = x0 #pongo al vector inicial\n",
        "  for i in range(max_iter-1):\n",
        "          F = - Funcion(*x[i,:])\n",
        "          J = JF(*x[i,:])\n",
        "          Jac = jacobi(J,F) #me devuelve la última solución del método de jacobi\n",
        "          x[i+1,:] = x[i,:] + Jac\n",
        "          #calculamos el error relativo\n",
        "          numerador = np.linalg.norm(x[i+1,:]-x[i,:],2)\n",
        "          denominador = np.linalg.norm(x[i+1,:],2)\n",
        "          error = numerador/denominador\n",
        "          if error < tol:\n",
        "              break  #que corte una vez que el error relativo es menor que la tolerancia\n",
        "  return x[i+1,:],i+1 #devuelve la última iteracion, y el numero de la iteración que hizo que converja."
      ]
    },
    {
      "cell_type": "code",
      "source": [
        "#Segunda parte, testeo con una función\n",
        "def F(x,y):\n",
        "  return np.array([y-x**2+2,x-y**2+2])\n",
        "def Jacobiano(x,y): #voy definiendo cada diferencial... F1 vendría a ser la funcion de la primer coordenada y F2 la de la segunda\n",
        "    dF1_dx = -2*x\n",
        "    dF1_dy = 1\n",
        "    dF2_dy = -2*y\n",
        "    return np.array([[dF1_dx, dF1_dy], [dF1_dx, dF2_dy]])\n",
        "\n",
        "tol = 1e-10\n",
        "#voy a armarme una listita con los vectores iniciales\n",
        "vectores = []\n",
        "v1 = np.array([3,2])\n",
        "vectores.append(v1)\n",
        "v2 = np.array([-10,-10])\n",
        "vectores.append(v2)\n",
        "v3 = np.array([0.4,-1])\n",
        "vectores.append(v3)\n",
        "v4 = np.array([-1,2])\n",
        "vectores.append(v4)\n",
        "for vector in vectores:\n",
        "  sol, iter = NewtonDosDim(F,Jacobiano,vector,tol)\n",
        "  print(\"La solucion de Newton-Raphson usando Jacobi con v0 =\",vector,\"es\", sol)\n",
        "\n",
        "#lo chequeé con la calculadora y parecen estar bien\n"
      ],
      "metadata": {
        "colab": {
          "base_uri": "https://localhost:8080/"
        },
        "id": "czizBAUvWZUQ",
        "outputId": "17721df4-e131-4f87-bdb2-122b9e4d9865"
      },
      "execution_count": 3,
      "outputs": [
        {
          "output_type": "stream",
          "name": "stdout",
          "text": [
            "La solucion de Newton-Raphson usando Jacobi con v0 = [3 2] es [2. 2.]\n",
            "La solucion de Newton-Raphson usando Jacobi con v0 = [-10 -10] es [-1. -1.]\n",
            "La solucion de Newton-Raphson usando Jacobi con v0 = [ 0.4 -1. ] es [ 0.6180377 -1.6180294]\n",
            "La solucion de Newton-Raphson usando Jacobi con v0 = [-1  2] es [-1.61803399  0.61803399]\n"
          ]
        }
      ]
    },
    {
      "cell_type": "markdown",
      "source": [
        "$$\n",
        "\\text{Ejercicio 2: Interpolación + Diferencias Finitas}\n",
        "$$\n",
        "\n",
        "1) Programe una función que le permita aproximar la siguiente tabla de datos en el sentido de cuadrados mínimos:\n",
        "    \n",
        "$$\n",
        "    \\begin{array}{c|cccc}\n",
        "    x & 0 & 0.4 & 0.7 & 1 \\\\\n",
        "    \\hline\n",
        "    y & 5 & 7 & 3 & 2\n",
        "    \\end{array}\n",
        "$$\n",
        "    \n",
        "con una función del tipo\n",
        "\n",
        "$$\n",
        "    f(x) = a \\sin(x) + b \\cos(x).\n",
        "$$\n",
        "    \n",
        "Nota que debe linealizar el problema, o sea, si invierte la definición de la función de arriba se obtendría:\n",
        "\n",
        "$$\n",
        "    \\frac{1}{f(x)} = a \\sin(x) + b \\cos(x),\n",
        "$$\n",
        "\n",
        "con lo que resultaría sencillo hallar los coeficientes $ a $ y $ b $.\n",
        "\n",
        "2)  Considerando la función $ f(x) $ del ítem anterior, se nos plantea el siguiente problema de valores de contorno:\n",
        "\n",
        "$$\n",
        "    \\begin{cases}\n",
        "    u''(x) + u(x) = f(x), & x \\in (0, 1) \\\\\n",
        "    u(0) = 5 \\\\\n",
        "    u(1) = 7\n",
        "    \\end{cases}\n",
        "$$\n",
        "\n",
        "Se quiere resolver en forma aproximada para lo cual se discretiza el intervalo $[0, 1]$ con nodos $ x_j = jh $ $(0 \\leq j \\leq N)$, donde $ h = \\frac{1}{N} $. Se aproxima la segunda derivada espacial mediante la siguiente fórmula:\n",
        "\n",
        "$$\n",
        "    u''(x) \\approx \\frac{u(x - h) - 2 u(x) + u(x + h)}{h^2}.\n",
        "$$\n",
        "\n",
        "Por lo tanto, el problema dado se puede formular en forma discretizada de la siguiente manera:\n",
        "\n",
        "$$\n",
        "    \\begin{cases}\n",
        "    \\frac{u_{j-1} - 2 u_j + u_{j+1}}{h^2} + u_j = f_j, & 1 \\leq j \\leq N - 1 \\\\\n",
        "    u_0 = 5 \\\\\n",
        "    u_N = 7\n",
        "    \\end{cases}\n",
        "$$\n"
      ],
      "metadata": {
        "id": "9KLtnX1uVoee"
      }
    },
    {
      "cell_type": "code",
      "source": [
        "#Parte 1\n",
        "\n",
        "#si f(x) = 1/(asen(x)+bcos(x))---> f^-1(x) = asen(x) + bcos(x)\n",
        "\n",
        "#datos de la tabla\n",
        "x = np.array([0,0.4,0.7,1])\n",
        "y = np.array([5,7,3,2])\n",
        "\n",
        "#ahora invierto los valores de y para obtener los valores de f^-1(x)\n",
        "y_inv = np.array([1/5,1/7,1/3,1/2])\n",
        "\n",
        "#Después de hacer un par de cálculos en una hoja, la matriz tiene la pinta np.array([sen(0), cos([0]),[sen(0.4),cos(0.4)],[sen(0.7), cos(0.7)],[sen(1),cos(1)]])\n",
        "\n",
        "Matriz_cuadrados_minimos = np.array([[np.sin(0), np.cos(0)],[np.sin(0.4),np.cos(0.4)],[np.sin(0.7), np.cos(0.7)],[np.sin(1),np.cos(1)]]) #esta sería mi matriz A, la cual tengo que trasponer\n",
        "def cuadrados_minimos(A,y):  #toma un matriz A y un vector Y (serían los valores de y en la tabla). Devuelve los coeficientes que vienen de hacer cuadrados mínimos, en este caso devuelve [a,b]\n",
        "  At = A.T\n",
        "  AtA = At@A\n",
        "  Aty = At@y\n",
        "  #resuelvo el sistema A^tA = A^ty\n",
        "  sol = np.linalg.solve(AtA,Aty)\n",
        "  return sol\n",
        "\n",
        "sol = cuadrados_minimos(Matriz_cuadrados_minimos,y_inv)\n",
        "\n",
        "print(\"a =\", sol[0], \"b =\", sol[1])\n",
        "\n",
        "#Los coeficientes me dieron a = 0.4323996 y b= 0.10712433. Luego, f(x)= 1/(0.4323966sen(x)+0.10712433cos(x))"
      ],
      "metadata": {
        "colab": {
          "base_uri": "https://localhost:8080/"
        },
        "id": "T771rXiiWN_w",
        "outputId": "04206e86-17d7-4f8d-faab-2efe7445c086"
      },
      "execution_count": 4,
      "outputs": [
        {
          "output_type": "stream",
          "name": "stdout",
          "text": [
            "a = 0.4323999646587513 b = 0.10712432535673669\n"
          ]
        }
      ]
    },
    {
      "cell_type": "code",
      "source": [
        "#segunda parte\n",
        "\n",
        "#primero programo la función del item anterior\n",
        "def f2(x):\n",
        "  return (sol[0]*np.sin(x) + sol[1]*np.cos(x))**(-1)\n",
        "\n",
        "h = 0.01\n",
        "x0 = 0\n",
        "xf = 1\n",
        "alpha = 5 #valor inicial\n",
        "beta = 7 #valor final\n",
        "pasos = 100 #viene de hacer 1/0.01, esto sólo lo voy a usar cuando defina el linspace para plotear la funcion\n",
        "#defino la matriz evolucion\n",
        "def Mat_A(h,x0,xf):\n",
        "  N = int((xf - x0)/h)\n",
        "  diagonal = (-2/h**2+1) * np.eye(N-1)\n",
        "  diagonal_superior = (1/h**2)*np.eye(N-1, k=1)\n",
        "  diagonal_inferior = (1/h**2)*np.eye(N-1, k=-1)\n",
        "  return diagonal + diagonal_inferior + diagonal_superior\n",
        "\n",
        "#necesito definir el vector f(xj)\n",
        "def fj(alpha,beta,x0,xf,h,f):\n",
        "  n = int((xf-x0)/h)\n",
        "  be = np.zeros(n-1)\n",
        "  exis = np.linspace(x0+h,xf-h,n-1) #quiero que vaya de x1 a xn-1 y son n-1 puntos\n",
        "  for i in range(n-1):\n",
        "    be[i] = f(exis[i])\n",
        "  be[-1] = f(exis[-1])- beta/h**2  #en la iteracion n-1 aparece (Uj-1 - Uj)/h² = fj-1 - 7/h²\n",
        "  be[0] -= alpha/h**2 #con j=1, en la iteracion aparece (-Uj + Uj+1)/h² = f1 - 5/h²\n",
        "  return be\n",
        "\n",
        "\n",
        "def DifFinProbContorno(A,b,x0,xf,h,alpha,beta,f): #recibe una matriz de evolucion A, el vector b de contorno y todos los otros datos y devuelve el vector de solucion [u0,...,uN]\n",
        "  A = Mat_A(h,x0,xf)\n",
        "  b = fj(alpha,beta,x0,xf,h,f2)\n",
        "  #necesito invertir la matriz y obtengo U = A^-1*b\n",
        "  inv_A = np.linalg.inv(A)\n",
        "  u = np.dot(inv_A,b)\n",
        "  u = [alpha]+list(u)+[beta] #le agrego U0 y UN\n",
        "  return u\n",
        "\n",
        "A = Mat_A(h,x0,xf)\n",
        "b = fj(alpha,beta,x0,xf,h,f2)\n",
        "solucion_calor = DifFinProbContorno(A,b,x0,xf,h,alpha,beta,f2)\n",
        "#puse print y parece dar Ok, ahora la grafico\n",
        "\n",
        "#defino una grilla de puntos en el intervalo [0,1]\n",
        "x2  = np.linspace(x0,xf,pasos+1)\n",
        "plt.plot(x2,solucion_calor)\n",
        "plt.xlabel('x')\n",
        "plt.ylabel('u(x)')\n",
        "plt.title('Solucion de la ecuación  de valores de contorno')\n",
        "plt.grid(True)\n",
        "plt.show()"
      ],
      "metadata": {
        "colab": {
          "base_uri": "https://localhost:8080/",
          "height": 472
        },
        "id": "LnIx0x1OWfeb",
        "outputId": "51ac15bf-ef70-4543-8e14-c80b998eece2"
      },
      "execution_count": 5,
      "outputs": [
        {
          "output_type": "display_data",
          "data": {
            "text/plain": [
              "<Figure size 640x480 with 1 Axes>"
            ],
            "image/png": "[encoded data removed]"
          },
          "metadata": {}
        }
      ]
    }
  ]
}