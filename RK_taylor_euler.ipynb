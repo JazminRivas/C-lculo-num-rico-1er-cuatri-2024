{
  "cells": [
    {
      "cell_type": "markdown",
      "metadata": {
        "id": "view-in-github",
        "colab_type": "text"
      },
      "source": [
        "<a href=\"https://colab.research.google.com/github/JazminRivas/Calculo-numerico-1er-cuatri-2024/blob/main/RK_taylor_euler.ipynb\" target=\"_parent\"><img src=\"https://colab.research.google.com/assets/colab-badge.svg\" alt=\"Open In Colab\"/></a>"
      ]
    },
    {
      "cell_type": "markdown",
      "metadata": {
        "id": "FLXylp6QYhE5"
      },
      "source": [
        "# Clase práctica 05"
      ]
    },
    {
      "cell_type": "code",
      "execution_count": null,
      "metadata": {
        "id": "eW8qcs8CYhE6"
      },
      "outputs": [],
      "source": [
        "import numpy as np\n",
        "import matplotlib.pyplot as plt"
      ]
    },
    {
      "cell_type": "markdown",
      "metadata": {
        "id": "mFm5QBK9YhE7"
      },
      "source": [
        "## Ordenes"
      ]
    },
    {
      "cell_type": "markdown",
      "metadata": {
        "id": "TQOZUWuc6HVw"
      },
      "source": [
        "En la clase anterior escribimos una función euler para resolver sistemas de ecuaciones diferenciales de orden uno con el **método de Euler** y vimos que funcionaba bien. Ahora, también vimos que existen distintos métodos para aproximar. La pregunta es para que queremos distintos métodos si ya tenemos uno? Apliquemos el que ya tenemos hasta el cansancio y listo **¿o no?**\n",
        "\n",
        "Vimos que con distintos métodos mejoramos el \"orden\", pero y eso, ¿qué significa?\n",
        "\n",
        "Nosotros tenemos un teorema que nos asegura que el error que se comete al utilizar un método de un paso con ciertas condiciones es:\n",
        "\n",
        "$$ |x(T) - x_n| \\leq \\frac{\\tau_{max}}{K} (e^{K(T-t_0)}-1) $$\n",
        "\n",
        "Sabemos que $\\tau_i \\sim O(h^k)$ y eso significaría que $\\tau_{max} \\sim O(h^k)$ (esto no es obvio ni inmediato, hay que demostrarlo). Por lo que esperariamos que\n",
        "\n",
        "$$ e_h = |x(T)-x_n| \\sim O(h^k)$$\n",
        "\n",
        "Para ver esto, implementemos los otros métodos. De la teórica tenemos que, para el problema de valores iniciales (PVI):\n",
        "\n",
        "$$\n",
        "\\begin{cases}\n",
        "x'(t) = f(t,x(t)) \\\\\n",
        "x(t_0) = x_0\n",
        "\\end{cases}\n",
        "$$\n",
        "\n",
        "Existen, por ejemplo, los siguientes métodos\n",
        "\n",
        "$$ \\begin{align*}\n",
        "    \\text{Euler} &\\longrightarrow \\begin{cases}\n",
        "    x_{i+1} = x_i + h\\cdot f(t_i, x_i)\\\\\n",
        "    x_0 = x_0 \\\\\n",
        "    \\tau = O(h)\n",
        "    \\end{cases} \\\\\n",
        "\n",
        "    \\text{Taylor de orden dos} &\\longrightarrow \\begin{cases}\n",
        "    x_{i+1} = x_i + h\\cdot f(t_i, x_i) + \\frac{h^2}{2}\\left[ f_t(t_i,x_i) + f_x(t_i,x_i) \\cdot f(t_i,x_i)\\right]\\\\\n",
        "    x_0 = x_0 \\\\\n",
        "    \\tau = O(h^2)\n",
        "    \\end{cases}\\\\\n",
        "\n",
        "    \\text{Euler modificado} &\\longrightarrow \\begin{cases}\n",
        "    x_{i+1} = x_i + h\\cdot f\\left(t_i+\\frac{h}{2},y_i+\\frac{h}{2}f(t_i,y_i)\\right) \\\\\n",
        "    x_0 = x_0 \\\\\n",
        "    \\tau = O(h^3)\n",
        "    \\end{cases}\\\\\n",
        "\n",
        "    \\text{Runge-Kutta (orden 4)} &\\longrightarrow \\begin{cases}\n",
        "    x_{i+1} = x_i + \\frac{h}{6}\\left[ K_1 + 2K_2 + 2K_3 + K_4\\right] \\\\\n",
        "    K_1 = f(t_i,x_i) \\\\\n",
        "    K_2 = f(t_i + \\frac{h}{2}, x_i + \\frac{h}{2}K_1) \\\\\n",
        "    K_3 = f(t_i + \\frac{h}{2}, x_i + \\frac{h}{2}K_2) \\\\\n",
        "    K_4 = f(t_i + h, x_i + hK_3) \\\\\n",
        "    x_0 = x_0 \\\\\n",
        "    \\tau = O(h^4)\n",
        "    \\end{cases}\n",
        "\n",
        "\\end{align*}\n",
        "$$"
      ]
    },
    {
      "cell_type": "code",
      "execution_count": null,
      "metadata": {
        "id": "1-TTFak8YhE8"
      },
      "outputs": [],
      "source": [
        "def euler(a, b, f, N, x0):\n",
        "    # Obtengo el paso\n",
        "    h = (b - a) / N\n",
        "    # Defino la grilla equiespaciada\n",
        "    t = np.linspace(a, b, N + 1)\n",
        "    # Guardo lugar para la solución de la EDO\n",
        "    x = np.zeros(N + 1)\n",
        "\n",
        "    # Uso la condición inicial\n",
        "    x[0]= x0\n",
        "    # Obtengo la aproximación via la ecuación de recurrencia del método de Euler\n",
        "    for i in range(N):\n",
        "        x[i+1] = x[i] + h * f(t[i],x[i])\n",
        "\n",
        "    # Devuelvo la grilla y la solución aproximada\n",
        "    return t, x"
      ]
    },
    {
      "cell_type": "markdown",
      "metadata": {
        "id": "bOAr4CwpYhE9"
      },
      "source": [
        "Implemente los siguientes métodos"
      ]
    },
    {
      "cell_type": "code",
      "execution_count": null,
      "metadata": {
        "id": "fiMtz7wLYhE9"
      },
      "outputs": [],
      "source": [
        "def euler_modificado(a, b, f, N, x0):\n",
        "    # Obtengo el paso\n",
        "    h = (b - a) / N\n",
        "    # Defino la grilla equiespaciada\n",
        "    t = np.linspace(a, b, N + 1)\n",
        "    # Guardo lugar para la solución de la EDO\n",
        "    x = np.zeros(N+1)\n",
        "\n",
        "    # Uso la condición inicial\n",
        "    x[0]= x0\n",
        "    # Obtengo la aproximación via la ecuación de recurrencia del método de Taylor\n",
        "    for i in range(N):\n",
        "        x[i+1] = x[i] + h * f(t[i] + h/2, x[i] + h / 2 * f(t[i],x[i]))\n",
        "\n",
        "    # Devuelvo la grilla y la solución aproximada\n",
        "    return t, x\n",
        "\n",
        "def taylor_orden_dos(a, b, f, f_t, f_x, N, x0):\n",
        "    # Obtengo el paso\n",
        "    h = (b - a) / N\n",
        "    # Defino la grilla equiespaciada\n",
        "    t = np.linspace(a, b, N + 1)\n",
        "    # Guardo lugar para la solución de la EDO\n",
        "    x = np.zeros(N+1)\n",
        "\n",
        "    # Uso la condición inicial\n",
        "    x[0]= x0\n",
        "    # Obtengo la aproximación via la ecuación de recurrencia del método de Taylor\n",
        "    for i in range(N):\n",
        "        x[i+1] = x[i] + h * f(t[i],x[i]) + h ** 2/2 * (f_t(t[i],x[i]) + f_x(t[i], x[i]) * f(t[i], x[i]))\n",
        "\n",
        "    # Devuelvo la grilla y la solución aproximada\n",
        "    return t, x\n",
        "\n",
        "def runge_kutta4(a, b, f, N, x0):\n",
        "    # Obtengo el paso\n",
        "    h = (b - a) / N\n",
        "    # Defino la grilla equiespaciada\n",
        "    t = np.linspace(a, b, N + 1)\n",
        "    # Guardo lugar para la solución de la EDO\n",
        "    x = np.zeros(N+1)\n",
        "\n",
        "    # Uso la condición inicial\n",
        "    x[0]= x0\n",
        "    # Obtengo la aproximación via la ecuación de recurrencia del método de Euler\n",
        "    for i in range(N):\n",
        "        # Calculo los K\n",
        "        K1 = f(t[i], x[i])\n",
        "        K2 = f(t[i] + h/2, x[i] + h / 2 * K1)\n",
        "        K3 = f(t[i] + h/2, x[i] + h / 2 * K2)\n",
        "        K4 = f(t[i] + h, x[i] + h * K3)\n",
        "        # Uso la recurrencia\n",
        "        x[i+1] = x[i] + h/6 * (K1 + 2 * K2 + 2 * K3 + K4)\n",
        "\n",
        "    return t, x"
      ]
    },
    {
      "cell_type": "markdown",
      "metadata": {
        "id": "s13WCHMBYhE9"
      },
      "source": [
        "Pruebe que sus métodos andan bien, con el siguiente codigo para la EDO:\n",
        "\n",
        "$$\n",
        "\\begin{cases}\n",
        "x'(t) = \\sin(t) \\cdot x(t) \\\\\n",
        "x(t_0) = 1\n",
        "\\end{cases}\n",
        "$$\n",
        "Cuya solución exacta es $ x(t) = e^{1-cos(t)} $"
      ]
    },
    {
      "cell_type": "code",
      "execution_count": null,
      "metadata": {
        "id": "YNIaBBv6YhE9"
      },
      "outputs": [],
      "source": [
        "def f(t, x):\n",
        "    return np.sin(t) * x\n",
        "def f_t(t, x):\n",
        "    return np.cos(t) * x\n",
        "def f_x(t, x):\n",
        "    return np.sin(t)\n",
        "def solucion_exacta(t):\n",
        "    return np.exp(1-np.cos(t))\n",
        "\n",
        "# Defino el intervalo\n",
        "a, b = 0, 6\n",
        "# Defino la cantidad de pasos\n",
        "N = 100\n",
        "# Defino la condición inicial\n",
        "x0 = 1\n",
        "\n",
        "# Calculo las aproximaciónes para los distintos métodos\n",
        "t_euler, x_euler = euler(a, b, f, N, x0)\n",
        "t_taylor, x_taylor = taylor_orden_dos(a, b, f, f_t, f_x, N, x0)\n",
        "t_euler_mod, x_euler_mod = euler_modificado(a, b, f, N, x0)\n",
        "t_rungekutta, x_rungekutta = runge_kutta4(a, b, f, N, x0)\n",
        "\n",
        "# Defino un tiempo para plottear la solución exacta\n",
        "t = np.linspace(a, b, N+1)\n",
        "\n",
        "# Los grafico para ver que funcione todo bien\n",
        "fig, ax = plt.subplots()\n",
        "ax.plot(t, solucion_exacta(t), linestyle='-', label='Exacta')\n",
        "ax.plot(t_euler, x_euler, linestyle=':', label='Euler')\n",
        "ax.plot(t_euler_mod, x_euler_mod, label='Euler modificado')\n",
        "ax.plot(t_taylor, x_taylor, linestyle='--', label='Taylor')\n",
        "ax.plot(t_rungekutta, x_rungekutta, linestyle='-.', label='Runge-Kutta')\n",
        "ax.legend()\n",
        "plt.show()"
      ]
    },
    {
      "cell_type": "markdown",
      "metadata": {
        "id": "rgkQYGVFYhE9"
      },
      "source": [
        "**Ejercicio**\n",
        "\n",
        "- Calcular el error que se comete al aproximar la solución del problema de arriba con cada método en función del paso tomado. Es decir calcule $ e_h = |x(6)-x_{N+1}|$ para distintos $h$\n",
        "- Grafique $\\log(e_h)$ contra $\\log(h)$ para cada uno de los distintos metodos. Qué espera ver?"
      ]
    },
    {
      "cell_type": "code",
      "execution_count": null,
      "metadata": {
        "id": "c5G7XkasYhE-"
      },
      "outputs": [],
      "source": [
        "# Creamos un array con potencias del 10\n",
        "Ns = np.power(10,np.arange(1,6))\n",
        "\n",
        "# Creamos una matriz con 4 filas para guardar los errores de cada método en una fila distinta\n",
        "errores = np.empty((4, len(Ns)))\n",
        "\n",
        "# Enumerate sirve para recorrer una lista y que nos diga en que posición estamos\n",
        "for i, N in enumerate(Ns):\n",
        "\n",
        "    # Obtenemos las soluciones aproximadas\n",
        "    # _ sirve para ignorar lo que nos devuelve la función asi no tenemos que crear nombres creativos para cosas que no vamos a usar\n",
        "    _, x_euler = euler(a, b, f, N, x0)\n",
        "    _, x_taylor = taylor_orden_dos(a, b, f, f_t, f_x, N, x0)\n",
        "    _, x_euler_mod = euler_modificado(a, b, f, N, x0)\n",
        "    _, x_rungekutta = runge_kutta4(a, b, f, N, x0)\n",
        "\n",
        "    # Guardamos los errores\n",
        "    errores[0,i] = np.abs(solucion_exacta(b) - x_euler[-1])\n",
        "    errores[1,i] = np.abs(solucion_exacta(b) - x_taylor[-1])\n",
        "    errores[2,i] = np.abs(solucion_exacta(b) - x_euler_mod[-1])\n",
        "    errores[3,i] = np.abs(solucion_exacta(b) - x_rungekutta[-1])\n",
        "\n",
        "# Me creo los h que corresponden a N\n",
        "hs = (b - a) / Ns\n",
        "\n",
        "# Grafico los resultados\n",
        "fig = plt.figure()\n",
        "plt.plot(np.log(hs), np.log(errores[0,:]), marker='.', label='Euler')\n",
        "plt.plot(np.log(hs), np.log(errores[1,:]), marker='.', label='Taylor')\n",
        "plt.plot(np.log(hs), np.log(errores[2,:]), marker='.', label='Euler modificado')\n",
        "plt.plot(np.log(hs), np.log(errores[3,:]), marker='.', label='Runge-Kutta')\n",
        "plt.title('Errores Globales')\n",
        "plt.xlabel('$\\log(h)$')\n",
        "plt.ylabel('$\\log(e_h)$')\n",
        "plt.legend()\n",
        "plt.show()"
      ]
    },
    {
      "cell_type": "markdown",
      "metadata": {
        "id": "9Ng8tZOHnEru"
      },
      "source": [
        "## Sistemas de Ecuaciones"
      ]
    },
    {
      "cell_type": "markdown",
      "metadata": {
        "id": "_GPu5P9EYhE-"
      },
      "source": [
        "#### Adaptación de los métodos para sistemas de ecuaciones\n",
        "\n",
        "Los metódos que tenemos hasta el momento, solo funcionan si les pasamos argumentos unidimensionales. Para tratar con sistemas de ecuaciones es necesario ajustar nuestras funciones para que tomen argumentos $n$-dimensionales. Para ello solemos utilizar los *arrays* de *numpy*. Adaptemos el método de Euler.\n",
        "Para eso, tenemos en cuenta que los sistemas de ecuaciones se ven como:\n",
        "\n",
        "$$\n",
        "\\begin{cases}\n",
        "    X'(t) = F(t, X(t)) \\\\\n",
        "    X(t_0) = X_0\n",
        "\\end{cases}\n",
        "$$\n",
        "donde\n",
        "$$\n",
        "\\begin{align*}\n",
        "    X(t) = \\begin{pmatrix} x_1(t) \\\\ x_2(t) \\\\ \\vdots \\\\ x_{n-1}(t) \\\\ x_n(t)\\end{pmatrix} & & X'(t) = \\begin{pmatrix} x_1'(t) \\\\ x_2'(t) \\\\ \\vdots \\\\ x_{n-1}'(t) \\\\ x_n'(t)\\end{pmatrix}\n",
        "\\end{align*}\n",
        "$$\n",
        "$$ F(t,X): \\mathbb{R}\\times\\mathbb{R}^n\\to\\mathbb{R}^n $$"
      ]
    },
    {
      "cell_type": "code",
      "execution_count": null,
      "metadata": {
        "id": "YuPL5DlrYhE-"
      },
      "outputs": [],
      "source": [
        "def euler_nd(a, b, f, N, X0):\n",
        "    ''' Resuelve un PVI n-dimensional utilizando el método de Euler.\n",
        "        :params:\n",
        "            a: tiempo inicial\n",
        "            b: tiempo final\n",
        "            f: función del t y de X (n-dimensional)\n",
        "            N: cantidad de pasos\n",
        "            X0: valores iniciales\n",
        "        :returns:\n",
        "            t: grilla equiespaciada\n",
        "            X: solución aproximada en la grilla (n-dimensional)\n",
        "    '''\n",
        "    # Obtengo el paso\n",
        "    h = (b - a) / N\n",
        "    # Defino la grilla equiespaciada\n",
        "    t = np.linspace(a, b, N + 1)\n",
        "    # Obtengo la dimension del problema\n",
        "    n = X0.size\n",
        "    # Guardo lugar para la solución de la EDO\n",
        "    # Vamos a guardar la solución para cada tiempo en cada fila (X[tiempo,dimension])\n",
        "    X = np.empty((N+1, n))\n",
        "\n",
        "    # Uso la condición inicial\n",
        "    # Aca X[i,:] significa toda la fila i (es decir la solución que corresponde al tiempo i)\n",
        "    X[0,:]= X0\n",
        "    # Obtengo la aproximación via la ecuación de recurrencia del método de Euler\n",
        "    for i in range(N):\n",
        "        X[i+1,:] = X[i,:] + h * f(t[i],X[i,:])\n",
        "\n",
        "    # Devuelvo la grilla y la solución aproximada\n",
        "    return t, X"
      ]
    },
    {
      "cell_type": "markdown",
      "metadata": {
        "id": "GlgGa9IsYhE_"
      },
      "source": [
        "De esta manera X se veria representado como:\n",
        "\n",
        "$$\n",
        "X =\n",
        "\\begin{pmatrix}\n",
        "X(t_0) \\\\\n",
        "X(t_1) \\\\\n",
        "\\vdots   \\\\\n",
        "X(t_N) \\\\\n",
        "\\end{pmatrix} =\n",
        "\\begin{pmatrix}\n",
        "x_1(t_0) & x_2(t_0) & \\cdots & x_{n-1}(t_0) & x_n(t_0) \\\\\n",
        "x_1(t_1) & x_2(t_1) & \\cdots & x_{n-1}(t_1) & x_n(t_1) \\\\\n",
        "\\vdots  & \\vdots & \\vdots &  \\vdots & \\vdots \\\\\n",
        "x_1(t_N) & x_2(t_{N}) & \\cdots & x_{n-1}(t_N) & x_n(t_N) \\\\\n",
        "\\end{pmatrix}\n",
        "$$"
      ]
    },
    {
      "cell_type": "markdown",
      "metadata": {
        "id": "ZcIJP2oGYhFA"
      },
      "source": [
        "Adaptar la función de Runge-Kutta y Euler modificado para valores $n$-dimensionales."
      ]
    },
    {
      "cell_type": "code",
      "execution_count": null,
      "metadata": {
        "id": "xKOOR-yKYhFA"
      },
      "outputs": [],
      "source": [
        "def euler_modificado_nd(a, b, f, N, X0):\n",
        "    # Obtengo el paso\n",
        "    h = (b - a) / N\n",
        "    # Defino la grilla equiespaciada\n",
        "    t = np.linspace(a, b, N + 1)\n",
        "    # Obtengo la dimension del problema\n",
        "    n = X0.size\n",
        "    # Guardo lugar para la solución de la EDO\n",
        "    X = np.zeros((N+1, n))\n",
        "\n",
        "    # Uso la condición inicial\n",
        "    X[0,:]= X0\n",
        "    # Obtengo la aproximación via la ecuación de recurrencia del método de Taylor\n",
        "    for i in range(N):\n",
        "        X[i+1,:] = X[i,:] + h * f(t[i] + h/2, X[i,:] + h / 2 * f(t[i],X[i,:]))\n",
        "\n",
        "    # Devuelvo la grilla y la solución aproximada\n",
        "    return t, X\n",
        "def runge_kutta4_nd(a, b, f, N, X0):\n",
        "    # Obtengo el paso\n",
        "    h = (b - a) / N\n",
        "    # Defino la grilla equiespaciada\n",
        "    t = np.linspace(a, b, N + 1)\n",
        "    # Obtengo la dimension del problema\n",
        "    n = X0.size\n",
        "    # Guardo lugar para la solución de la EDO\n",
        "    X = np.zeros((N+1, n))\n",
        "\n",
        "    # Uso la condición inicial\n",
        "    X[0,:]= X0\n",
        "    # Obtengo la aproximación via la ecuación de recurrencia del método de Euler\n",
        "    for i in range(N):\n",
        "        # Calculo los K\n",
        "        K1 = f(t[i], X[i,:])\n",
        "        K2 = f(t[i] + h/2, X[i,:] + h / 2 * K1)\n",
        "        K3 = f(t[i] + h/2, X[i,:] + h / 2 * K2)\n",
        "        K4 = f(t[i] + h, X[i,:] + h * K3)\n",
        "        # Uso la recurrencia\n",
        "        X[i+1,:] = X[i,:] + h/6 * (K1 + 2 * K2 + 2 * K3 + K4)\n",
        "\n",
        "    return t, X"
      ]
    }
  ],
  "metadata": {
    "colab": {
      "private_outputs": true,
      "provenance": [],
      "include_colab_link": true
    },
    "kernelspec": {
      "display_name": "Python 3",
      "name": "python3"
    },
    "language_info": {
      "codemirror_mode": {
        "name": "ipython",
        "version": 3
      },
      "file_extension": ".py",
      "mimetype": "text/x-python",
      "name": "python",
      "nbconvert_exporter": "python",
      "pygments_lexer": "ipython3",
      "version": "3.11.5"
    }
  },
  "nbformat": 4,
  "nbformat_minor": 0
}