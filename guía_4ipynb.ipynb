{
  "nbformat": 4,
  "nbformat_minor": 0,
  "metadata": {
    "colab": {
      "provenance": [],
      "authorship_tag": "ABX9TyPykns8F/+EfppdMHTk6zJl",
      "include_colab_link": true
    },
    "kernelspec": {
      "name": "python3",
      "display_name": "Python 3"
    },
    "language_info": {
      "name": "python"
    }
  },
  "cells": [
    {
      "cell_type": "markdown",
      "metadata": {
        "id": "view-in-github",
        "colab_type": "text"
      },
      "source": [
        "<a href=\"https://colab.research.google.com/github/JazminRivas/Calculo-numerico-1er-cuatri-2024/blob/main/gu%C3%ADa_4ipynb.ipynb\" target=\"_parent\"><img src=\"https://colab.research.google.com/assets/colab-badge.svg\" alt=\"Open In Colab\"/></a>"
      ]
    },
    {
      "cell_type": "code",
      "execution_count": null,
      "metadata": {
        "id": "zBf1glNjdztO"
      },
      "outputs": [],
      "source": [
        "import numpy as np\n",
        "import matplotlib.pyplot as plt\n",
        "from matplotlib.gridspec import GridSpec\n",
        "from typing import Optional, Tuple\n",
        "import time"
      ]
    },
    {
      "cell_type": "markdown",
      "source": [
        "Ejercicio 1\n",
        "\n",
        "Demostrar las siguientes formulas para las normas inducidas sobre las matrices\n",
        "A ∈ R\n",
        "n×n a partir de las correspondientes normas en los vectores\n",
        "a) Por la norma infinito en los vectores:\n",
        "$$ \\|A\\|_{\\infty} = \\max_{1 \\leq i \\leq n} \\sum_{j=1}^{n} |a_{ij}| $$\n",
        "\n",
        "b) Por la norma 1 en los vectores:\n",
        "$$ \\|A\\|_{1} = \\max_{1 \\leq j \\leq n} \\sum_{i=1}^{n} |a_{ij}| $$\n",
        "\n",
        "c) Escriba funciones en Python para calcular estas normas\n",
        "\n",
        "```\n",
        "\n"
      ],
      "metadata": {
        "id": "9xzduKGHeONg"
      }
    },
    {
      "cell_type": "code",
      "source": [
        "#1c\n",
        "def norma_infinito(A):\n",
        "   M = np.shape(A)\n",
        "   tamaño_filas = M[0]\n",
        "   sumas = []\n",
        "   for i in range(tamaño_filas):\n",
        "       sumas.append(sum(abs(A[i,:])))\n",
        "   return np.max(sumas)\n",
        "A = np.array ([[1,  2,  3], [4,  5,  6],[7, 8, 9]])\n",
        "print(norma_infinito(A))\n",
        "\n",
        "def norma_uno(A):\n",
        "    N = np.shape(A)\n",
        "    tamaño_columnas = N[1]\n",
        "    suma = []\n",
        "    for i in range(tamaño_columnas):\n",
        "        suma.append(sum(abs(A[:,i])))\n",
        "    return np.max(suma)\n",
        "print(norma_uno(A))\n"
      ],
      "metadata": {
        "colab": {
          "base_uri": "https://localhost:8080/"
        },
        "id": "6l0r9H0leyWL",
        "outputId": "1c86bc4b-ee89-43f6-cc4a-21870e6a3914"
      },
      "execution_count": null,
      "outputs": [
        {
          "output_type": "stream",
          "name": "stdout",
          "text": [
            "24\n",
            "18\n"
          ]
        }
      ]
    },
    {
      "cell_type": "markdown",
      "source": [
        "Ejercicio 3.\n",
        "\n",
        "Se quiere estimar la norma 2 de una matriz $A \\in \\mathbb{R}^{3 \\times 3}$ como el máximo del valor $\\frac{\\|Ax\\|_2}{\\|x\\|_2}$ entre varios vectores $x \\in \\mathbb{R}^3$ no nulos generados al azar. Hacer un programa que reciba una matriz $A$ y luego:\n",
        "\n",
        "\n",
        "a) Genere los primeros 100 términos de la siguiente sucesión:\n",
        "    $ s_1 = 0, \\quad s_{k+1} = \\max\\{ s_k, \\frac{\\|Ax_k\\|_2}{\\|x_k\\|_2} \\} $\n",
        "    donde los $x_k \\in \\mathbb{R}^3$ son vectores no nulos generados al azar distribuidos uniformemente en el círculo unitario.\n",
        "    \n",
        "b) Grafique la sucesión calculada, junto con el valor exacto de la norma de la matriz.\n"
      ],
      "metadata": {
        "id": "RqhuflPafOfX"
      }
    },
    {
      "cell_type": "code",
      "source": [
        "def generar_vectores_unitarios(N):\n",
        "    # Genera N vectores aleatorios en la esfera unitaria\n",
        "    vectores = []\n",
        "    for _ in range(N):\n",
        "        theta = np.random.uniform(0, 2 * np.pi)\n",
        "        phi = np.arccos(2 * np.random.uniform(0, 1) - 1)\n",
        "        x = np.sin(phi) * np.cos(theta)\n",
        "        y = np.sin(phi) * np.sin(theta)\n",
        "        z = np.cos(phi)\n",
        "        vector = np.array([x, y, z])\n",
        "        vectores.append(vector)\n",
        "    return vectores\n",
        "\n",
        "# Número de vectores a generar\n",
        "N = 100\n",
        "\n",
        "# Generar N vectores aleatorios en la esfera unitaria\n",
        "vectores_generados = generar_vectores_unitarios(N)\n",
        "\n",
        "# Imprimir los vectores generados\n",
        "print(\"Vectores generados en la esfera unitaria:\")\n",
        "for i, vector in enumerate(vectores_generados):\n",
        "    print(f\"Vector {i + 1}: {vector}\")\n",
        "\n",
        "def norma_dos(A,x):\n",
        "    Ax = np.dot(A,x)\n",
        "    norma_Ax = np.linalg.norm(Ax)\n",
        "    norma_x = np.linalg.norm(x)\n",
        "    return norma_Ax/norma_x\n",
        "\n",
        "def estimar_norma_2(A, iteraciones,N):\n",
        "    s = 0\n",
        "    max_valor = []\n",
        "    for i in range(iteraciones):\n",
        "        x = generar_vectores_unitarios(N)\n",
        "        for vector in x:\n",
        "            valor = norma_dos(A, vector)\n",
        "            s = max(s, valor)\n",
        "            max_valor.append(s)\n",
        "    return max_valor\n",
        "\n",
        "sucesion = estimar_norma_2(A, 5, 100)\n",
        "\n",
        "#vamos a compararla con la solucion de verdad\n",
        "valor_exacto = np.linalg.norm(A, ord=2)\n",
        "plt.plot(range(len(sucesion)), sucesion, label='Sucesión estimada')\n",
        "plt.axhline(y=valor_exacto, color='r', linestyle='--', label='Valor exacto')\n",
        "plt.xlabel('Iteración')\n",
        "plt.ylabel('Valor de la norma 2')\n",
        "plt.title('Sucesión estimada de la norma 2')\n",
        "plt.legend()\n",
        "plt.show()\n"
      ],
      "metadata": {
        "colab": {
          "base_uri": "https://localhost:8080/",
          "height": 1000
        },
        "id": "wD0rul5CfjLL",
        "outputId": "d12cdad6-44c6-435f-f15c-59d5a3a32c1c"
      },
      "execution_count": null,
      "outputs": [
        {
          "output_type": "stream",
          "name": "stdout",
          "text": [
            "Vectores generados en la esfera unitaria:\n",
            "Vector 1: [-0.93423093 -0.03602309  0.35484491]\n",
            "Vector 2: [ 0.21683766 -0.43411769 -0.87437021]\n",
            "Vector 3: [0.07139814 0.98951183 0.12557329]\n",
            "Vector 4: [-0.43251054 -0.15171947 -0.88877209]\n",
            "Vector 5: [0.0180552  0.79119543 0.61129682]\n",
            "Vector 6: [ 0.66694718  0.39823439 -0.62975458]\n",
            "Vector 7: [ 0.19623791 -0.71336185  0.67275966]\n",
            "Vector 8: [-0.97859656 -0.00209028  0.20577756]\n",
            "Vector 9: [-0.87110294 -0.23794481  0.42960672]\n",
            "Vector 10: [ 0.77119982 -0.60568011 -0.19596538]\n",
            "Vector 11: [-0.13627843  0.64161129 -0.75482656]\n",
            "Vector 12: [-0.25949947 -0.3177929   0.91195817]\n",
            "Vector 13: [ 0.9084227  -0.07874683  0.41056929]\n",
            "Vector 14: [-0.74193795  0.60078636  0.29763035]\n",
            "Vector 15: [-0.49950949  0.39227997 -0.7724032 ]\n",
            "Vector 16: [ 0.70217005 -0.63443378  0.32318879]\n",
            "Vector 17: [0.10357789 0.155744   0.98235199]\n",
            "Vector 18: [ 0.11301358 -0.99352251  0.01187234]\n",
            "Vector 19: [ 0.2605838  -0.74042107 -0.61957463]\n",
            "Vector 20: [-0.76792469 -0.55862403 -0.31341802]\n",
            "Vector 21: [ 0.80951413  0.0604644  -0.58397854]\n",
            "Vector 22: [-0.30404475 -0.95251817 -0.01630698]\n",
            "Vector 23: [-0.03433662 -0.86447213 -0.50150666]\n",
            "Vector 24: [0.66179405 0.73735588 0.13540658]\n",
            "Vector 25: [-0.83762242 -0.0052716  -0.54622421]\n",
            "Vector 26: [0.45575582 0.716881   0.52760616]\n",
            "Vector 27: [-0.86316195 -0.50491552 -0.00343   ]\n",
            "Vector 28: [ 0.96798514 -0.12366606  0.21842957]\n",
            "Vector 29: [-0.14155619 -0.00353136  0.98992392]\n",
            "Vector 30: [ 0.34276629  0.9372189  -0.06428061]\n",
            "Vector 31: [0.51496545 0.69519815 0.50150785]\n",
            "Vector 32: [ 0.6729405  -0.67430858  0.30407075]\n",
            "Vector 33: [-0.29072756 -0.79999657 -0.52486473]\n",
            "Vector 34: [-0.50639987 -0.55514484 -0.6598283 ]\n",
            "Vector 35: [ 0.07427485 -0.63098581 -0.77223064]\n",
            "Vector 36: [0.32087529 0.21763645 0.92177732]\n",
            "Vector 37: [-0.77044821  0.61208469 -0.17821864]\n",
            "Vector 38: [0.33788602 0.33271987 0.88041497]\n",
            "Vector 39: [ 0.99710429  0.04228296 -0.06320749]\n",
            "Vector 40: [-0.00901494  0.07262102  0.99731886]\n",
            "Vector 41: [-0.71068688 -0.31795047  0.62756008]\n",
            "Vector 42: [0.11307745 0.95793306 0.26377592]\n",
            "Vector 43: [ 0.9751983   0.0392106  -0.21783207]\n",
            "Vector 44: [-0.94612532 -0.31198362  0.08667818]\n",
            "Vector 45: [ 0.48370207 -0.10091584  0.86939537]\n",
            "Vector 46: [ 0.39304186 -0.02600002  0.91915292]\n",
            "Vector 47: [ 0.27894384  0.53332374 -0.79859634]\n",
            "Vector 48: [-0.21476206 -0.21770325  0.95209377]\n",
            "Vector 49: [ 0.16890966  0.94642112 -0.27523914]\n",
            "Vector 50: [-0.55480089 -0.27076134 -0.78669198]\n",
            "Vector 51: [-0.65223507  0.70905941  0.26800029]\n",
            "Vector 52: [-0.27505177 -0.88868073  0.3668693 ]\n",
            "Vector 53: [-0.85015482 -0.04349984 -0.52473283]\n",
            "Vector 54: [ 0.34743052 -0.52422409 -0.77748385]\n",
            "Vector 55: [ 0.89677063  0.44245587 -0.00593604]\n",
            "Vector 56: [-0.12379171 -0.91392334 -0.3865485 ]\n",
            "Vector 57: [ 0.10492603 -0.87462227 -0.47331429]\n",
            "Vector 58: [ 0.97807253 -0.18998151 -0.08532965]\n",
            "Vector 59: [ 0.51927996 -0.64463215  0.56106836]\n",
            "Vector 60: [ 0.76099643 -0.33301741  0.55676192]\n",
            "Vector 61: [ 0.28250498 -0.95924545  0.00625323]\n",
            "Vector 62: [-0.91614562 -0.13445313  0.37762356]\n",
            "Vector 63: [ 0.48902627 -0.62546615 -0.6079847 ]\n",
            "Vector 64: [ 0.43652332 -0.1380298  -0.88904171]\n",
            "Vector 65: [ 0.51913208  0.46865741 -0.71474619]\n",
            "Vector 66: [ 0.8705774  -0.18294135  0.45675754]\n",
            "Vector 67: [-0.67872065  0.61089848 -0.40760437]\n",
            "Vector 68: [ 0.44408522  0.3867295  -0.80822559]\n",
            "Vector 69: [ 0.94718058  0.29730633 -0.12024101]\n",
            "Vector 70: [-0.30752514  0.95054328 -0.04354046]\n",
            "Vector 71: [-0.53340581 -0.34711087 -0.77135743]\n",
            "Vector 72: [-0.85036248  0.41392834  0.32487996]\n",
            "Vector 73: [ 0.93694986 -0.23691013  0.25690183]\n",
            "Vector 74: [-0.94863811  0.03149395 -0.31479178]\n",
            "Vector 75: [-0.34875976 -0.92126777 -0.17214045]\n",
            "Vector 76: [-0.76977935 -0.54484153  0.33254693]\n",
            "Vector 77: [-0.21564921  0.94187394  0.25762161]\n",
            "Vector 78: [ 0.7743447  -0.27589477  0.56944918]\n",
            "Vector 79: [0.75671026 0.5810071  0.29970041]\n",
            "Vector 80: [-0.53767426  0.64859376  0.53873233]\n",
            "Vector 81: [-0.64712429  0.56509833  0.51175583]\n",
            "Vector 82: [ 3.52404655e-04  3.35308917e-01 -9.42108171e-01]\n",
            "Vector 83: [0.05909006 0.91691334 0.39468758]\n",
            "Vector 84: [ 0.42566126  0.90474808 -0.01560165]\n",
            "Vector 85: [ 0.69465656  0.49442309 -0.52249217]\n",
            "Vector 86: [ 0.87607416  0.27662012 -0.39493718]\n",
            "Vector 87: [ 0.19789717 -0.57082905 -0.79686316]\n",
            "Vector 88: [ 0.23451184  0.22169657 -0.94649608]\n",
            "Vector 89: [-0.63295678 -0.77352885 -0.0319192 ]\n",
            "Vector 90: [ 0.1901504  -0.00265375 -0.98175138]\n",
            "Vector 91: [0.4715337  0.29804984 0.82995316]\n",
            "Vector 92: [-0.28367628  0.2067868  -0.93635837]\n",
            "Vector 93: [ 0.10084685  0.94282346 -0.31766938]\n",
            "Vector 94: [-0.46725228 -0.88167648 -0.06574106]\n",
            "Vector 95: [0.89484473 0.3519301  0.27458715]\n",
            "Vector 96: [ 0.25671746 -0.84040688 -0.47729699]\n",
            "Vector 97: [-0.04533104  0.24620198  0.96815788]\n",
            "Vector 98: [-0.65895978 -0.31948958 -0.68095404]\n",
            "Vector 99: [ 0.37753956 -0.20412396 -0.90321497]\n",
            "Vector 100: [ 0.05261149 -0.58888966  0.80649922]\n"
          ]
        },
        {
          "output_type": "display_data",
          "data": {
            "text/plain": [
              "<Figure size 640x480 with 1 Axes>"
            ],
            "image/png": "[encoded data removed]"
          },
          "metadata": {}
        }
      ]
    },
    {
      "cell_type": "markdown",
      "source": [
        "Ejercicio 11. a) Escribir un programa que resuelva un sistema $Ax = b$, $A \\in \\mathbb{R}^{n \\times n}$ usando eliminación gaussiana sin pivoteo.\n",
        "\n",
        "b) Adaptar el programa del ítem anterior para que calcule la matriz $A^{-1}$."
      ],
      "metadata": {
        "id": "0nMCtxK5gao6"
      }
    },
    {
      "cell_type": "code",
      "source": [
        "def resolver_sistema_triangular(U: np.ndarray, b: np.ndarray) -> np.ndarray:\n",
        "    ''' Resuelve un sistema de la forma Ux = b donde U es una matrix triangular superior (a_ij = 0 si i<j)'''\n",
        "    N = U.shape[0]\n",
        "    x = np.empty(N)\n",
        "\n",
        "    # Voy resolviendo de atras para adelante\n",
        "    ## El primero es obvio\n",
        "    x[-1] = b[-1]/U[-1,-1]\n",
        "\n",
        "    ## Hago el resto\n",
        "    for i in range(2,N+1):\n",
        "        x[-i]= (b[-i] - np.dot(U[-i,-i+1:],x[-i+1:])) / U[-i, -i]\n",
        "    return(x)\n",
        "def gauss(A: np.ndarray, b: np.ndarray):\n",
        "    ''' Resuelve un sistema Ax=b via eliminación de Gauss'''\n",
        "    N = len(A)\n",
        "    for i in range(N-1): #Columnas\n",
        "        #Acá habría que agregar el pivoteo en caso de ser necesario (ignorelo por ahora)\n",
        "        for j in range(i+1,N): #Filas\n",
        "            factor = A[j, i] / A[i, i]\n",
        "            A[j,i] = A[j,i] - factor*A[i,i]\n",
        "            b[j] -= factor * b[i]\n",
        "\n",
        "    x = resolver_sistema_triangular(A, b)\n",
        "    return x\n"
      ],
      "metadata": {
        "id": "26zXR-u-gct0"
      },
      "execution_count": null,
      "outputs": []
    }
  ]
}