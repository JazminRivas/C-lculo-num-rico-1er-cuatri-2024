{
  "nbformat": 4,
  "nbformat_minor": 0,
  "metadata": {
    "colab": {
      "provenance": [],
      "authorship_tag": "ABX9TyPLxLak+ig7enGCMk26T7rN",
      "include_colab_link": true
    },
    "kernelspec": {
      "name": "python3",
      "display_name": "Python 3"
    },
    "language_info": {
      "name": "python"
    }
  },
  "cells": [
    {
      "cell_type": "markdown",
      "metadata": {
        "id": "view-in-github",
        "colab_type": "text"
      },
      "source": [
        "<a href=\"https://colab.research.google.com/github/JazminRivas/Calculo-numerico-1er-cuatri-2024/blob/main/guia_2.ipynb\" target=\"_parent\"><img src=\"https://colab.research.google.com/assets/colab-badge.svg\" alt=\"Open In Colab\"/></a>"
      ]
    },
    {
      "cell_type": "code",
      "source": [
        "import matplotlib.pyplot as plt\n",
        "import numpy as np\n",
        "from math import cos\n",
        "from math import sin\n",
        "from math import pi"
      ],
      "metadata": {
        "id": "Cu1CRbQQKoQ0"
      },
      "execution_count": null,
      "outputs": []
    },
    {
      "cell_type": "markdown",
      "source": [
        "\n",
        "Escribir un programa que implemente el método de Euler explícito para resolver ecuaciones de la forma\n",
        "$$\n",
        "y' = f(t, y)\n",
        "$$\n",
        "$$\n",
        "y(t_0) = y_0,\n",
        "$$\n",
        "tomando como parámetros la función $f$, los tiempos inicial y final $t_0$ y $t_f$, el paso $h$ y el dato\n",
        "inicial $y_0$; y arrojando como resultados el vector $t = (t_0, t_0 + h, \\ldots, t_f)$ y la solución $y$.\n"
      ],
      "metadata": {
        "id": "b74EoZN0KQAn"
      }
    },
    {
      "cell_type": "code",
      "execution_count": 6,
      "metadata": {
        "id": "OuRy2WuGKKFZ"
      },
      "outputs": [],
      "source": [
        "def euler(a,b,N,f,x0):\n",
        "  h = (b-a)/N\n",
        "  t = np.linspace(a,b,N+1)\n",
        "  x = np.zeros(N+1)\n",
        "  x[0] = x0\n",
        "  for k in range(1,N+1):\n",
        "    x[k] = x[k-1] + h*f(t[k-1],x[k-1])\n",
        "  return t,x\n"
      ]
    },
    {
      "cell_type": "markdown",
      "source": [
        "\n",
        "Se quiere verificar numéricamente el orden de convergencia de los métodos de Euler y Taylor de orden 2. Para ello: resolver numéricamente el problema\n",
        "$$\n",
        "y' = y\n",
        "$$\n",
        "$$\n",
        "y(0) = 1,\n",
        "$$\n",
        "en el intervalo $[0, 1]$ con ambos métodos, tomando $h = 2^{-k}$ para $k = 2, \\ldots, 8$. Para cada $h$ calcular el error que se comete al aproximar $y(1)$: $e_h = |y(1) - y_N|$. Graficar $\\log(e_h)$ en función de $\\log(h)$. ¿Qué se espera ver? ¿El resultado es consistente con el esperado?\n",
        "\n"
      ],
      "metadata": {
        "id": "mdQA_MXQLq8c"
      }
    },
    {
      "cell_type": "code",
      "source": [
        "def ej_cinco(t,x):\n",
        "    return x\n",
        "def euler_modificado(a, b, f, N, x0):\n",
        "    h = (b-a)/N\n",
        "    t = np.linspace(a,b,N+1)\n",
        "    x = np.zeros(N+1)\n",
        "    x[0] = x0\n",
        "    for i in range(N):\n",
        "        x[i+1] = x[i] + (h/2)*f(t[i]+(h/2),x[i]+(h/2)*f(t[i],x[i]))\n",
        "    return t, x\n",
        "\n",
        "\n",
        "def taylor_orden_dos(a, b, f, f_t, f_x, N, x0):\n",
        "    # Obtengo el paso\n",
        "    h = (b - a) / N\n",
        "    print(h)\n",
        "    # Defino la grilla equiespaciada\n",
        "    t = np.linspace(a, b, N + 1)\n",
        "    # Guardo lugar para la solución de la EDO\n",
        "    x = np.zeros(N+1)\n",
        "\n",
        "    # Uso la condición inicial\n",
        "    x[0]= x0\n",
        "    # Obtengo la aproximación via la ecuación de recurrencia del método de Taylor\n",
        "    for i in range(N):\n",
        "        x[i+1] = x[i]+h*f(t[i],x[i]) + (1/2)*(f_t(t[i],x[i]) + f_x(t[i],x[i])*f(t[i],x[i]))*(h**2)\n",
        "\n",
        "    # Devuelvo la grilla y la solución aproximada\n",
        "    return t, x\n",
        "\n",
        "def f_t(t,x):\n",
        "    return 0\n",
        "def f_y(t,y):\n",
        "    return 1\n",
        "def sol_exacta(t):\n",
        "    return np.exp(t)\n",
        "a = 0\n",
        "b = 1\n",
        "Enes = np.power(2,np.arange(2,9))\n",
        "lista_h = []\n",
        "error_euler = []\n",
        "error_taylor = []\n",
        "error_euler_ordenuno = []\n",
        "for n in Enes:\n",
        "    t_euler, x_euler = euler_modificado(0, 1, ej_cinco, n, 1)\n",
        "    t_taylor, x_taylor = taylor_orden_dos(0, 1, ej_cinco, f_t, f_y, n, 1)\n",
        "    t_uno, x_uno = euler(0,1,n,f,1)\n",
        "    lista_h.append(np.log((b-a)/n))\n",
        "    error_euler.append(np.log(abs(sol_exacta(1)-x_euler[-1])))\n",
        "    error_taylor.append(np.log(abs(sol_exacta(1)-x_taylor[-1])))\n",
        "    error_euler_ordenuno.append(np.log(abs(sol_exacta(1)-x_uno[-1])))\n",
        "plt.plot(lista_h,error_euler,marker = \"o\", label = \"euler\",color = \"red\")\n",
        "plt.plot(lista_h,error_taylor,marker = \"o\", label = \"taylor\")\n",
        "plt.plot(lista_h,error_euler_ordenuno,marker = \"o\", label = \"euler 1\",color = \"pink\")\n",
        "plt.xlabel(\"log(h)\")\n",
        "plt.ylabel(\"log(eh)\")\n",
        "plt.show()\n",
        "\n",
        "#tiene toda la pinta de estar mal"
      ],
      "metadata": {
        "colab": {
          "base_uri": "https://localhost:8080/",
          "height": 571
        },
        "id": "B703hu2rMh1E",
        "outputId": "70099669-6616-4a4b-ef30-76905f5b1cda"
      },
      "execution_count": 7,
      "outputs": [
        {
          "output_type": "stream",
          "name": "stdout",
          "text": [
            "0.25\n",
            "0.125\n",
            "0.0625\n",
            "0.03125\n",
            "0.015625\n",
            "0.0078125\n",
            "0.00390625\n"
          ]
        },
        {
          "output_type": "display_data",
          "data": {
            "text/plain": [
              "<Figure size 640x480 with 1 Axes>"
            ],
            "image/png": "[encoded data removed]"
          },
          "metadata": {}
        }
      ]
    },
    {
      "cell_type": "markdown",
      "source": [
        "Modificar el programa del Ejercicio 1 para que acepte ecuaciones vectoriales: la solución $y$ deberá ser una matriz de $m \\times n$, donde $m$ es el número de pasos temporales y $n$ la cantidad de variables del problema. De este modo, la fila $i$ de $y$ corresponderá al valor de la solución en todas sus variables a tiempo $t_i$."
      ],
      "metadata": {
        "id": "dzugnPiOM7OG"
      }
    },
    {
      "cell_type": "code",
      "source": [
        "def euler_nd(a, b, f, N, X0):\n",
        "    ''' Resuelve un PVI n-dimensional utilizando el método de Euler.\n",
        "        :params:\n",
        "            a: tiempo inicial\n",
        "            b: tiempo final\n",
        "            f: función del t y de X (n-dimensional)\n",
        "            N: cantidad de pasos\n",
        "            X0: valores iniciales\n",
        "        :returns:\n",
        "            t: grilla equiespaciada\n",
        "            X: solución aproximada en la grilla (n-dimensional)\n",
        "    '''\n",
        "    # Obtengo el paso\n",
        "    h = (b - a) / N\n",
        "    # Defino la grilla equiespaciada\n",
        "    t = np.linspace(a, b, N + 1)\n",
        "    # Obtengo la dimension del problema\n",
        "    n = X0.size\n",
        "    # Guardo lugar para la solución de la EDO\n",
        "    # Vamos a guardar la solución para cada tiempo en cada fila (X[tiempo,dimension])\n",
        "    X = np.empty((N+1, n))\n",
        "\n",
        "    # Uso la condición inicial\n",
        "    # Aca X[i,:] significa toda la fila i (es decir la solución que corresponde al tiempo i)\n",
        "    X[0,:]= X0\n",
        "    # Obtengo la aproximación via la ecuación de recurrencia del método de Euler\n",
        "    for i in range(N):\n",
        "        X[i+1,:] = X[i,:] + h * f(t[i],X[i,:])\n",
        "\n",
        "    # Devuelvo la grilla y la solución aproximada\n",
        "    return t, X\n"
      ],
      "metadata": {
        "id": "HeL6FyEZNEYt"
      },
      "execution_count": null,
      "outputs": []
    }
  ]
}