{
  "nbformat": 4,
  "nbformat_minor": 0,
  "metadata": {
    "colab": {
      "provenance": [],
      "include_colab_link": true
    },
    "kernelspec": {
      "name": "python3",
      "display_name": "Python 3"
    },
    "language_info": {
      "name": "python"
    }
  },
  "cells": [
    {
      "cell_type": "markdown",
      "metadata": {
        "id": "view-in-github",
        "colab_type": "text"
      },
      "source": [
        "<a href=\"https://colab.research.google.com/github/JazminRivas/C-lculo-num-rico-1er-cuatri-2024/blob/main/gu%C3%ADa_5.ipynb\" target=\"_parent\"><img src=\"https://colab.research.google.com/assets/colab-badge.svg\" alt=\"Open In Colab\"/></a>"
      ]
    },
    {
      "cell_type": "code",
      "source": [
        "import numpy as np\n",
        "import matplotlib.pyplot as plt\n",
        "from matplotlib.gridspec import GridSpec\n",
        "from typing import Optional, Tuple\n",
        "import time"
      ],
      "metadata": {
        "id": "nrD15vMUkNEj"
      },
      "execution_count": null,
      "outputs": []
    },
    {
      "cell_type": "markdown",
      "source": [
        "Ejercicio 1.\n",
        "\n",
        "Escribir un programa que implemente el metodo de Jacobi y otro que implemente el metodo de Gauss-Seidel para la resoluci\\'on de un sistema lineal $Ax = b$, con las siguientes condiciones:\n",
        "\n",
        "a) que finalice si el metodo se estaciona,\n",
        "\n",
        "b)que finalice con una advertencia si se excede cierto tope de iteraciones,"
      ],
      "metadata": {
        "id": "URHnt39PiS4s"
      }
    },
    {
      "cell_type": "code",
      "source": [
        "#Empiezo con el punto B\n",
        "def jacobi(A: np.ndarray, b: np.ndarray, x0: Optional[np.ndarray] = None, max_iter: int = 100) -> np.ndarray:\n",
        "    D = np.diag(np.diag(A))\n",
        "    L = np.tril(A,-1)\n",
        "    U = np.triu(A,1)\n",
        "    D_inv =np.linalg.inv(D)\n",
        "    M = -D_inv@(L+U)\n",
        "    c = D_inv@b\n",
        "\n",
        "    if x0 is None:\n",
        "        x0 = c\n",
        "\n",
        "    # Guardo lugar para la sucesion\n",
        "    # La fila i va a ser la aproximación en la iteración i\n",
        "    # Las columnas van a ser las coordenadas de cada aproximación\n",
        "    x = np.empty((max_iter, x0.size))\n",
        "\n",
        "    for i in range(max_iter-1):\n",
        "        x[i+1,:] = M @ x[i,:] + c\n",
        "\n",
        "    return x\n",
        "\n",
        "def gauss_seidel(A: np.ndarray, b: np.ndarray, x0: Optional[np.ndarray] = None, max_iter: int = 100) -> np.ndarray:\n",
        "    D = np.diag(np.diag(A))\n",
        "    L = np.tril(A,-1)\n",
        "    U = np.triu(A,1)\n",
        "    DL_inv = np.linalg.inv(D+L)\n",
        "\n",
        "    M = -DL_inv@U\n",
        "    c = DL_inv@b\n",
        "\n",
        "    if x0 is None:\n",
        "        x0 = c\n",
        "\n",
        "    # Guardo lugar para la sucesion\n",
        "    # La fila i va a ser la aproximación en la iteración i\n",
        "    # Las columnas van a ser las coordenadas de cada aproximación\n",
        "    x = np.empty((max_iter, x0.size))\n",
        "\n",
        "    for i in range(max_iter-1):\n",
        "        x[i+1,:] = M @ x[i,:] + c\n",
        "\n",
        "    return x"
      ],
      "metadata": {
        "id": "nE-UEj7Wic_k"
      },
      "execution_count": null,
      "outputs": []
    },
    {
      "cell_type": "code",
      "source": [
        "#Punto A\n",
        "def jacobi_estacionado(A: np.ndarray, b: np.ndarray, x0: Optional[np.ndarray] = None, max_iter = 100, tol = 1e-8) -> np.ndarray: #lo calcula hasta que se estacione o se pase de las iteraciones\n",
        "    D = np.diag(np.diag(A))\n",
        "    L = np.tril(A,-1)\n",
        "    U = np.triu(A,1)\n",
        "    D_inv =np.linalg.inv(D)\n",
        "    M = -D_inv@(L+U)\n",
        "    c = D_inv@b\n",
        "    iteracion = 0\n",
        "    if x0 is None:\n",
        "        x0 = c\n",
        "\n",
        "    # Guardo lugar para la sucesion\n",
        "    # La fila i va a ser la aproximación en la iteración i\n",
        "    # Las columnas van a ser las coordenadas de cada aproximación\n",
        "    x = np.empty((max_iter,x0.size))\n",
        "\n",
        "    while iteracion < max_iter:\n",
        "      x[iteracion+1,:] = M @ x[iteracion,:] + c\n",
        "      if np.linalg.norm(x[iteracion + 1,:] - x[iteracion,:],2) >= tol:\n",
        "        iteracion +=1\n",
        "      else:\n",
        "        break\n",
        "\n",
        "\n",
        "    return x[:iteracion,:],iteracion + 1 #devuelve todo hasta que se estacione y la cantidad de iteraciones\n",
        "\n",
        "#pruebo con un ejemplo\n",
        "A = np.array([[-3,1],[2,6]])\n",
        "b = np.array([4,4])\n",
        "\n",
        "x,iter = jacobi_estacionado(A,b) # Ponerle otro x0 para ver que pasa despues de que ande\n",
        "print(\"la solucion es\", A@x[-1,:], \"y las iteraciones son\",iter) #espectacular :D\n",
        "\n",
        "def GS_estacionado(A: np.ndarray, b: np.ndarray, x0: Optional[np.ndarray] = None, max_iter: int = 100, tol = 1e-8) -> np.ndarray:\n",
        " D = np.diag(np.diag(A))\n",
        " L = np.tril(A,-1)\n",
        " U = np.triu(A,1)\n",
        " DL_inv = np.linalg.inv(D+L)\n",
        " M = -DL_inv@U\n",
        " c = DL_inv@b\n",
        " iteracion = 0\n",
        " if x0 is None:\n",
        "  x0 = c\n",
        "\n",
        "    # Guardo lugar para la sucesion\n",
        "    # La fila i va a ser la aproximación en la iteración i\n",
        "    # Las columnas van a ser las coordenadas de cada aproximación\n",
        "  x = np.empty((max_iter, x0.size))\n",
        "\n",
        "  while iteracion < max_iter:\n",
        "      x[iteracion+1,:] = M @ x[iteracion,:] + c\n",
        "      if np.linalg.norm(x[iteracion + 1,:] - x[iteracion,:],2) >= tol:\n",
        "        iteracion +=1\n",
        "      else:\n",
        "          break\n",
        "\n",
        "\n",
        "  return x[:iteracion,:],iteracion + 1 #devuelve todo hasta que se estacione y la cantidad de iteraciones\n",
        "Aa = np.array([[1,1/2,1/2],\n",
        "              [1/2,1,1/2],\n",
        "              [1/2,1/2,1]])\n",
        "bb = np.array([2,2,2])\n",
        "\n",
        "xgs, itergs = GS_estacionado(Aa,bb)\n",
        "print(\"ajsjdhd\", Aa@xgs[-1,:],\"las iter son\", itergs) #funciona perfecto"
      ],
      "metadata": {
        "colab": {
          "base_uri": "https://localhost:8080/"
        },
        "id": "0g8TTTbHi6oK",
        "outputId": "cea5ce06-05df-4141-983a-5f25e439c640"
      },
      "execution_count": null,
      "outputs": [
        {
          "output_type": "stream",
          "name": "stdout",
          "text": [
            "la solucion es [4.00000002 3.99999994] y las iteraciones son 19\n",
            "ajsjdhd [1.99999999 2.00000001 2.        ] las iter son 20\n"
          ]
        }
      ]
    },
    {
      "cell_type": "markdown",
      "source": [
        "Hacer un codigo que calcule la descomposicion LU de una matriz."
      ],
      "metadata": {
        "id": "Xc4pENDnmho9"
      }
    },
    {
      "cell_type": "code",
      "source": [
        "def tiene_lu(A,eps): #eps es el epsilon de maquina\n",
        "    #Dada una matriz A, devuelve True si tiene descomposición LU, o False en caso contrario\n",
        "\n",
        "\n",
        "    res = True\n",
        "\n",
        "    for i in range(np.shape(A)[0]):\n",
        "      if np.abs(np.linalg.det(A[:i, :i])) < eps: #si el determinante esta muy cerca de 0, no s inversible\n",
        "        res = False\n",
        "    return res\n",
        "    pass\n",
        "\n",
        "def lu_decomposition(A):\n",
        "    n = len(A)\n",
        "    L = np.zeros((n, n))\n",
        "    U = np.zeros((n, n))\n",
        "    if tiene_lu:\n",
        "\n",
        "      for i in range(n):\n",
        "        # Matriz L tiene unos en su diagonal\n",
        "          L[i, i] = 1\n",
        "\n",
        "        # Calcula la parte superior de la matriz U\n",
        "          for j in range(i, n):\n",
        "              U[i, j] = A[i, j] - sum(L[i, k] * U[k, j] for k in range(i))\n",
        "\n",
        "        # Calcula la parte inferior de la matriz L\n",
        "          for j in range(i + 1, n):\n",
        "              L[j, i] = (A[j, i] - sum(L[j, k] * U[k, i] for k in range(i))) / U[i, i]\n",
        "\n",
        "      return L, U\n",
        "    else:\n",
        "      print(\"No tiene factorizacion LU\")\n",
        "\n",
        "# Ejemplo de uso\n",
        "A = np.array([[2, -1, 1], [1, 3, 2], [1, 1, 4]])\n",
        "L, U = lu_decomposition(A)\n",
        "print(\"Matriz L:\")\n",
        "print(L)\n",
        "print(\"Matriz U:\")\n",
        "print(U)\n",
        "print(L@U)"
      ],
      "metadata": {
        "colab": {
          "base_uri": "https://localhost:8080/"
        },
        "id": "E1Qb8eDimmmm",
        "outputId": "b69140ff-f65e-427d-908f-25d75e10ad86"
      },
      "execution_count": null,
      "outputs": [
        {
          "output_type": "stream",
          "name": "stdout",
          "text": [
            "Matriz L:\n",
            "[[1.         0.         0.        ]\n",
            " [0.5        1.         0.        ]\n",
            " [0.5        0.42857143 1.        ]]\n",
            "Matriz U:\n",
            "[[ 2.         -1.          1.        ]\n",
            " [ 0.          3.5         1.5       ]\n",
            " [ 0.          0.          2.85714286]]\n",
            "[[ 2. -1.  1.]\n",
            " [ 1.  3.  2.]\n",
            " [ 1.  1.  4.]]\n"
          ]
        }
      ]
    },
    {
      "cell_type": "markdown",
      "source": [
        "Cholesky"
      ],
      "metadata": {
        "id": "AM95Vee-m80g"
      }
    },
    {
      "cell_type": "code",
      "source": [
        "def es_simetrica(A):\n",
        "  for i in range(len(A)):\n",
        "        for j in range(i, len(A)):  # Podemos empezar desde i para evitar comparar dos veces\n",
        "            if A[i][j] != A[j][i]:\n",
        "                return False\n",
        "\n",
        "\n",
        "  return True\n",
        "\n",
        "def es_definida_positiva(A):\n",
        "    # Verificar si todos los autovalores son positivos\n",
        "    autovalores = np.linalg.eigvals(A)\n",
        "    return np.all(autovalores > 0) #devuelve true si todos los autovalores son mayores a 0\n",
        "\n",
        "def cholesky(A):\n",
        "  if es_simetrica(A) and es_definida_positiva(A):\n",
        "    L,U = lu_decomposition(A)\n",
        "    return L, L.T\n",
        "  else:\n",
        "    print(A, \"no tiene descomposición de cholesky\")\n",
        "\n",
        "matriz1 = np.array([[4, 2, 2],[2, 2, 1],[2, 1, 3]])\n",
        "matriz2 = np.array([[0, 2, 3],[2, 5, 6],[3, 1, 2]])\n",
        "print(cholesky(matriz1))\n",
        "print(cholesky(matriz2))"
      ],
      "metadata": {
        "colab": {
          "base_uri": "https://localhost:8080/"
        },
        "id": "ENmN5EU_m93d",
        "outputId": "aed3d13a-f080-4d1f-ceb9-9ffa1bf61d34"
      },
      "execution_count": null,
      "outputs": [
        {
          "output_type": "stream",
          "name": "stdout",
          "text": [
            "(array([[1. , 0. , 0. ],\n",
            "       [0.5, 1. , 0. ],\n",
            "       [0.5, 0. , 1. ]]), array([[1. , 0.5, 0.5],\n",
            "       [0. , 1. , 0. ],\n",
            "       [0. , 0. , 1. ]]))\n",
            "[[0 2 3]\n",
            " [2 5 6]\n",
            " [3 1 2]] no tiene descomposición de cholesky\n",
            "None\n"
          ]
        }
      ]
    },
    {
      "cell_type": "markdown",
      "source": [
        "Método SOR"
      ],
      "metadata": {
        "id": "hpHHidCAnHly"
      }
    },
    {
      "cell_type": "code",
      "source": [
        "def metodo_sor(A: np.ndarray, b: np.ndarray, tolerancia,w, x0: Optional[np.ndarray] = None, max_iter = 1000) -> np.ndarray:\n",
        "  D = np.diag(np.diag(A))\n",
        "  L = np.tril(A,-1)\n",
        "  U = np.triu(A,1)\n",
        "  D_inv = np.linalg.inv(D+(w*L))\n",
        "  Bsor = D_inv @ ((1-w)*D - w*U)\n",
        "  Csor = D_inv @ (w*b)\n",
        "  if x0 is None:\n",
        "      x0 = np.zeros(len(b))\n",
        "  x = x0.copy()\n",
        "  for i in range(max_iter):\n",
        "        x_nuevo = Bsor @ x + Csor\n",
        "        if np.linalg.norm(x_nuevo - x, 2) < tolerancia:\n",
        "            return x_nuevo, i+1   #como arranca desde el 0, le sumo 1 y es la iteracion que hizo que converja\n",
        "        x = x_nuevo\n",
        "\n",
        "  return x, max_iter\n",
        "\n",
        "#pruebo con un ejemplo\n",
        "A = np.array([[4,3,0],[3,4,-1],[0,-1,4]])\n",
        "b = np.array([24,30,-24])\n",
        "sol = np.linalg.solve(A,b)\n",
        "print(sol)\n",
        "w = 0.9\n",
        "x0 = np.array([1,1,1])\n",
        "tolerancia = 1e-8\n",
        "x,cantI = metodo_sor(A,b,tolerancia,w,x0,100)\n",
        "print(x,cantI)\n",
        "#funciona bien :D\n"
      ],
      "metadata": {
        "colab": {
          "base_uri": "https://localhost:8080/"
        },
        "id": "7joati7gnRAX",
        "outputId": "1e04f761-aceb-484d-c08c-8f26e42a3226"
      },
      "execution_count": null,
      "outputs": [
        {
          "output_type": "stream",
          "name": "stdout",
          "text": [
            "[ 3.  4. -5.]\n",
            "[ 3.00000001  3.99999999 -5.        ] 45\n"
          ]
        }
      ]
    }
  ]
}